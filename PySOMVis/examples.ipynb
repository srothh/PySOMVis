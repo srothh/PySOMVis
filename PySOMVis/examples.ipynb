{
 "cells": [
  {
   "cell_type": "markdown",
   "id": "621a5c86",
   "metadata": {},
   "source": [
    "## Synthetic Data (1000 datapoints, SOM map 12x4)"
   ]
  },
  {
   "cell_type": "code",
   "execution_count": 1,
   "id": "4add4b57",
   "metadata": {
    "ExecuteTime": {
     "end_time": "2025-01-22T17:26:46.829841200Z",
     "start_time": "2025-01-22T17:26:46.720269500Z"
    }
   },
   "outputs": [
    {
     "ename": "NameError",
     "evalue": "name 'np' is not defined",
     "output_type": "error",
     "traceback": [
      "\u001B[0;31m---------------------------------------------------------------------------\u001B[0m",
      "\u001B[0;31mNameError\u001B[0m                                 Traceback (most recent call last)",
      "Cell \u001B[0;32mIn[1], line 7\u001B[0m\n\u001B[1;32m      5\u001B[0m resolution \u001B[38;5;241m=\u001B[39m \u001B[38;5;241m1000\u001B[39m \u001B[38;5;66;03m# how many datapoints to generate\u001B[39;00m\n\u001B[1;32m      6\u001B[0m cycles \u001B[38;5;241m=\u001B[39m \u001B[38;5;241m4\u001B[39m \u001B[38;5;66;03m# how many sine cycles\u001B[39;00m\n\u001B[0;32m----> 7\u001B[0m length \u001B[38;5;241m=\u001B[39m \u001B[43mnp\u001B[49m\u001B[38;5;241m.\u001B[39mpi \u001B[38;5;241m*\u001B[39m \u001B[38;5;241m2\u001B[39m \u001B[38;5;241m*\u001B[39m cycles\n\u001B[1;32m      9\u001B[0m X1 \u001B[38;5;241m=\u001B[39m np\u001B[38;5;241m.\u001B[39marange(\u001B[38;5;241m0\u001B[39m, length, length \u001B[38;5;241m/\u001B[39m resolution)\n\u001B[1;32m     10\u001B[0m X2 \u001B[38;5;241m=\u001B[39m np\u001B[38;5;241m.\u001B[39marange(\u001B[38;5;241m0\u001B[39m, length, length \u001B[38;5;241m/\u001B[39m resolution)\n",
      "\u001B[0;31mNameError\u001B[0m: name 'np' is not defined"
     ]
    }
   ],
   "source": [
    "#generating 3D synthetic data data\n",
    "def f(X):\n",
    "    return np.sin(X) + np.random.normal(scale=0.3, size=len(X))\n",
    "\n",
    "resolution = 1000 # how many datapoints to generate\n",
    "cycles = 4 # how many sine cycles\n",
    "length = np.pi * 2 * cycles\n",
    "\n",
    "X1 = np.arange(0, length, length / resolution)\n",
    "X2 = np.arange(0, length, length / resolution)\n",
    "X3 = np.arange(0, length, length / resolution)\n",
    "\n",
    "synth = np.concatenate(([f(X1)],[f(X2)],[f(X3)]), axis=0).T;"
   ]
  },
  {
   "cell_type": "code",
   "execution_count": 1,
   "id": "2f385e05",
   "metadata": {
    "ExecuteTime": {
     "end_time": "2025-01-22T17:27:40.164958Z",
     "start_time": "2025-01-22T17:27:39.512808400Z"
    }
   },
   "outputs": [
    {
     "ename": "ValueError",
     "evalue": "numpy.dtype size changed, may indicate binary incompatibility. Expected 96 from C header, got 88 from PyObject",
     "output_type": "error",
     "traceback": [
      "\u001B[0;31m---------------------------------------------------------------------------\u001B[0m",
      "\u001B[0;31mValueError\u001B[0m                                Traceback (most recent call last)",
      "Cell \u001B[0;32mIn[1], line 2\u001B[0m\n\u001B[1;32m      1\u001B[0m \u001B[38;5;28;01mimport\u001B[39;00m\u001B[38;5;250m \u001B[39m\u001B[38;5;21;01mnumpy\u001B[39;00m\u001B[38;5;250m \u001B[39m\u001B[38;5;28;01mas\u001B[39;00m\u001B[38;5;250m \u001B[39m\u001B[38;5;21;01mnp\u001B[39;00m\n\u001B[0;32m----> 2\u001B[0m \u001B[38;5;28;01mimport\u001B[39;00m\u001B[38;5;250m \u001B[39m\u001B[38;5;21;01mholoviews\u001B[39;00m\u001B[38;5;250m \u001B[39m\u001B[38;5;28;01mas\u001B[39;00m\u001B[38;5;250m \u001B[39m\u001B[38;5;21;01mhv\u001B[39;00m\n\u001B[1;32m      3\u001B[0m hv\u001B[38;5;241m.\u001B[39mextension(\u001B[38;5;124m'\u001B[39m\u001B[38;5;124mbokeh\u001B[39m\u001B[38;5;124m'\u001B[39m)\n\u001B[1;32m      5\u001B[0m synth       \u001B[38;5;241m=\u001B[39m np\u001B[38;5;241m.\u001B[39mload(\u001B[38;5;124m'\u001B[39m\u001B[38;5;124mdatasets\u001B[39m\u001B[38;5;124m\\\u001B[39m\u001B[38;5;124msynthetic\u001B[39m\u001B[38;5;124m\\\u001B[39m\u001B[38;5;124msinusoidal.npy\u001B[39m\u001B[38;5;124m'\u001B[39m)\n",
      "File \u001B[0;32m~/.virtualenvs/PySOMVis/lib/python3.10/site-packages/holoviews/__init__.py:11\u001B[0m\n\u001B[1;32m      6\u001B[0m \u001B[38;5;28;01mimport\u001B[39;00m\u001B[38;5;250m \u001B[39m\u001B[38;5;21;01mparam\u001B[39;00m\n\u001B[1;32m      8\u001B[0m __version__ \u001B[38;5;241m=\u001B[39m \u001B[38;5;28mstr\u001B[39m(param\u001B[38;5;241m.\u001B[39mversion\u001B[38;5;241m.\u001B[39mVersion(fpath\u001B[38;5;241m=\u001B[39m\u001B[38;5;18m__file__\u001B[39m, archive_commit\u001B[38;5;241m=\u001B[39m\u001B[38;5;124m\"\u001B[39m\u001B[38;5;124m$Format:\u001B[39m\u001B[38;5;124m%\u001B[39m\u001B[38;5;124mh$\u001B[39m\u001B[38;5;124m\"\u001B[39m,\n\u001B[1;32m      9\u001B[0m                                         reponame\u001B[38;5;241m=\u001B[39m\u001B[38;5;124m\"\u001B[39m\u001B[38;5;124mholoviews\u001B[39m\u001B[38;5;124m\"\u001B[39m))\n\u001B[0;32m---> 11\u001B[0m \u001B[38;5;28;01mfrom\u001B[39;00m\u001B[38;5;250m \u001B[39m\u001B[38;5;21;01m.\u001B[39;00m\u001B[38;5;250m \u001B[39m\u001B[38;5;28;01mimport\u001B[39;00m util                                       \u001B[38;5;66;03m# noqa (API import)\u001B[39;00m\n\u001B[1;32m     12\u001B[0m \u001B[38;5;28;01mfrom\u001B[39;00m\u001B[38;5;250m \u001B[39m\u001B[38;5;21;01m.\u001B[39;00m\u001B[38;5;21;01mannotators\u001B[39;00m\u001B[38;5;250m \u001B[39m\u001B[38;5;28;01mimport\u001B[39;00m annotate                         \u001B[38;5;66;03m# noqa (API import)\u001B[39;00m\n\u001B[1;32m     13\u001B[0m \u001B[38;5;28;01mfrom\u001B[39;00m\u001B[38;5;250m \u001B[39m\u001B[38;5;21;01m.\u001B[39;00m\u001B[38;5;21;01mcore\u001B[39;00m\u001B[38;5;250m \u001B[39m\u001B[38;5;28;01mimport\u001B[39;00m archive, config                        \u001B[38;5;66;03m# noqa (API import)\u001B[39;00m\n",
      "File \u001B[0;32m~/.virtualenvs/PySOMVis/lib/python3.10/site-packages/holoviews/util/__init__.py:15\u001B[0m\n\u001B[1;32m     12\u001B[0m \u001B[38;5;28;01mimport\u001B[39;00m\u001B[38;5;250m \u001B[39m\u001B[38;5;21;01mparam\u001B[39;00m\n\u001B[1;32m     13\u001B[0m \u001B[38;5;28;01mfrom\u001B[39;00m\u001B[38;5;250m \u001B[39m\u001B[38;5;21;01mpyviz_comms\u001B[39;00m\u001B[38;5;250m \u001B[39m\u001B[38;5;28;01mimport\u001B[39;00m extension \u001B[38;5;28;01mas\u001B[39;00m _pyviz_extension\n\u001B[0;32m---> 15\u001B[0m \u001B[38;5;28;01mfrom\u001B[39;00m\u001B[38;5;250m \u001B[39m\u001B[38;5;21;01m.\u001B[39;00m\u001B[38;5;21;01m.\u001B[39;00m\u001B[38;5;21;01mcore\u001B[39;00m\u001B[38;5;250m \u001B[39m\u001B[38;5;28;01mimport\u001B[39;00m (\n\u001B[1;32m     16\u001B[0m     Dataset, DynamicMap, HoloMap, Dimensioned, ViewableElement,\n\u001B[1;32m     17\u001B[0m     StoreOptions, Store\n\u001B[1;32m     18\u001B[0m )\n\u001B[1;32m     19\u001B[0m \u001B[38;5;28;01mfrom\u001B[39;00m\u001B[38;5;250m \u001B[39m\u001B[38;5;21;01m.\u001B[39;00m\u001B[38;5;21;01m.\u001B[39;00m\u001B[38;5;21;01mcore\u001B[39;00m\u001B[38;5;21;01m.\u001B[39;00m\u001B[38;5;21;01moptions\u001B[39;00m\u001B[38;5;250m \u001B[39m\u001B[38;5;28;01mimport\u001B[39;00m options_policy, Keywords, Options\n\u001B[1;32m     20\u001B[0m \u001B[38;5;28;01mfrom\u001B[39;00m\u001B[38;5;250m \u001B[39m\u001B[38;5;21;01m.\u001B[39;00m\u001B[38;5;21;01m.\u001B[39;00m\u001B[38;5;21;01mcore\u001B[39;00m\u001B[38;5;21;01m.\u001B[39;00m\u001B[38;5;21;01moperation\u001B[39;00m\u001B[38;5;250m \u001B[39m\u001B[38;5;28;01mimport\u001B[39;00m Operation\n",
      "File \u001B[0;32m~/.virtualenvs/PySOMVis/lib/python3.10/site-packages/holoviews/core/__init__.py:3\u001B[0m\n\u001B[1;32m      1\u001B[0m \u001B[38;5;28;01mfrom\u001B[39;00m\u001B[38;5;250m \u001B[39m\u001B[38;5;21;01mdatetime\u001B[39;00m\u001B[38;5;250m \u001B[39m\u001B[38;5;28;01mimport\u001B[39;00m date, datetime\n\u001B[0;32m----> 3\u001B[0m \u001B[38;5;28;01mfrom\u001B[39;00m\u001B[38;5;250m \u001B[39m\u001B[38;5;21;01m.\u001B[39;00m\u001B[38;5;21;01mboundingregion\u001B[39;00m\u001B[38;5;250m \u001B[39m\u001B[38;5;28;01mimport\u001B[39;00m \u001B[38;5;241m*\u001B[39m  \u001B[38;5;66;03m# noqa (API import)\u001B[39;00m\n\u001B[1;32m      4\u001B[0m \u001B[38;5;28;01mfrom\u001B[39;00m\u001B[38;5;250m \u001B[39m\u001B[38;5;21;01m.\u001B[39;00m\u001B[38;5;21;01mdata\u001B[39;00m\u001B[38;5;250m \u001B[39m\u001B[38;5;28;01mimport\u001B[39;00m \u001B[38;5;241m*\u001B[39m            \u001B[38;5;66;03m# noqa (API import)\u001B[39;00m\n\u001B[1;32m      5\u001B[0m \u001B[38;5;28;01mfrom\u001B[39;00m\u001B[38;5;250m \u001B[39m\u001B[38;5;21;01m.\u001B[39;00m\u001B[38;5;21;01mdimension\u001B[39;00m\u001B[38;5;250m \u001B[39m\u001B[38;5;28;01mimport\u001B[39;00m \u001B[38;5;241m*\u001B[39m       \u001B[38;5;66;03m# noqa (API import)\u001B[39;00m\n",
      "File \u001B[0;32m~/.virtualenvs/PySOMVis/lib/python3.10/site-packages/holoviews/core/boundingregion.py:12\u001B[0m\n\u001B[1;32m     10\u001B[0m \u001B[38;5;28;01mimport\u001B[39;00m\u001B[38;5;250m \u001B[39m\u001B[38;5;21;01mparam\u001B[39;00m\n\u001B[1;32m     11\u001B[0m \u001B[38;5;28;01mfrom\u001B[39;00m\u001B[38;5;250m \u001B[39m\u001B[38;5;21;01mparam\u001B[39;00m\u001B[38;5;21;01m.\u001B[39;00m\u001B[38;5;21;01mparameterized\u001B[39;00m\u001B[38;5;250m \u001B[39m\u001B[38;5;28;01mimport\u001B[39;00m get_occupied_slots\n\u001B[0;32m---> 12\u001B[0m \u001B[38;5;28;01mfrom\u001B[39;00m\u001B[38;5;250m \u001B[39m\u001B[38;5;21;01m.\u001B[39;00m\u001B[38;5;21;01mutil\u001B[39;00m\u001B[38;5;250m \u001B[39m\u001B[38;5;28;01mimport\u001B[39;00m datetime_types\n\u001B[1;32m     15\u001B[0m \u001B[38;5;28;01mclass\u001B[39;00m\u001B[38;5;250m \u001B[39m\u001B[38;5;21;01mBoundingRegion\u001B[39;00m(\u001B[38;5;28mobject\u001B[39m):\n\u001B[1;32m     16\u001B[0m \u001B[38;5;250m    \u001B[39m\u001B[38;5;124;03m\"\"\"\u001B[39;00m\n\u001B[1;32m     17\u001B[0m \u001B[38;5;124;03m    Abstract bounding region class, for any portion of a 2D plane.\u001B[39;00m\n\u001B[1;32m     18\u001B[0m \n\u001B[1;32m     19\u001B[0m \u001B[38;5;124;03m    Only subclasses can be instantiated directly.\u001B[39;00m\n\u001B[1;32m     20\u001B[0m \u001B[38;5;124;03m    \"\"\"\u001B[39;00m\n",
      "File \u001B[0;32m~/.virtualenvs/PySOMVis/lib/python3.10/site-packages/holoviews/core/util.py:61\u001B[0m\n\u001B[1;32m     58\u001B[0m masked_types \u001B[38;5;241m=\u001B[39m ()\n\u001B[1;32m     60\u001B[0m \u001B[38;5;28;01mtry\u001B[39;00m:\n\u001B[0;32m---> 61\u001B[0m     \u001B[38;5;28;01mimport\u001B[39;00m\u001B[38;5;250m \u001B[39m\u001B[38;5;21;01mpandas\u001B[39;00m\u001B[38;5;250m \u001B[39m\u001B[38;5;28;01mas\u001B[39;00m\u001B[38;5;250m \u001B[39m\u001B[38;5;21;01mpd\u001B[39;00m\n\u001B[1;32m     62\u001B[0m \u001B[38;5;28;01mexcept\u001B[39;00m \u001B[38;5;167;01mImportError\u001B[39;00m:\n\u001B[1;32m     63\u001B[0m     pd \u001B[38;5;241m=\u001B[39m \u001B[38;5;28;01mNone\u001B[39;00m\n",
      "File \u001B[0;32m~/.virtualenvs/PySOMVis/lib/python3.10/site-packages/pandas/__init__.py:22\u001B[0m\n\u001B[1;32m     19\u001B[0m \u001B[38;5;28;01mdel\u001B[39;00m hard_dependencies, dependency, missing_dependencies\n\u001B[1;32m     21\u001B[0m \u001B[38;5;66;03m# numpy compat\u001B[39;00m\n\u001B[0;32m---> 22\u001B[0m \u001B[38;5;28;01mfrom\u001B[39;00m\u001B[38;5;250m \u001B[39m\u001B[38;5;21;01mpandas\u001B[39;00m\u001B[38;5;21;01m.\u001B[39;00m\u001B[38;5;21;01mcompat\u001B[39;00m\u001B[38;5;250m \u001B[39m\u001B[38;5;28;01mimport\u001B[39;00m (\n\u001B[1;32m     23\u001B[0m     np_version_under1p18 \u001B[38;5;28;01mas\u001B[39;00m _np_version_under1p18,\n\u001B[1;32m     24\u001B[0m     is_numpy_dev \u001B[38;5;28;01mas\u001B[39;00m _is_numpy_dev,\n\u001B[1;32m     25\u001B[0m )\n\u001B[1;32m     27\u001B[0m \u001B[38;5;28;01mtry\u001B[39;00m:\n\u001B[1;32m     28\u001B[0m     \u001B[38;5;28;01mfrom\u001B[39;00m\u001B[38;5;250m \u001B[39m\u001B[38;5;21;01mpandas\u001B[39;00m\u001B[38;5;21;01m.\u001B[39;00m\u001B[38;5;21;01m_libs\u001B[39;00m\u001B[38;5;250m \u001B[39m\u001B[38;5;28;01mimport\u001B[39;00m hashtable \u001B[38;5;28;01mas\u001B[39;00m _hashtable, lib \u001B[38;5;28;01mas\u001B[39;00m _lib, tslib \u001B[38;5;28;01mas\u001B[39;00m _tslib\n",
      "File \u001B[0;32m~/.virtualenvs/PySOMVis/lib/python3.10/site-packages/pandas/compat/__init__.py:15\u001B[0m\n\u001B[1;32m     12\u001B[0m \u001B[38;5;28;01mimport\u001B[39;00m\u001B[38;5;250m \u001B[39m\u001B[38;5;21;01mwarnings\u001B[39;00m\n\u001B[1;32m     14\u001B[0m \u001B[38;5;28;01mfrom\u001B[39;00m\u001B[38;5;250m \u001B[39m\u001B[38;5;21;01mpandas\u001B[39;00m\u001B[38;5;21;01m.\u001B[39;00m\u001B[38;5;21;01m_typing\u001B[39;00m\u001B[38;5;250m \u001B[39m\u001B[38;5;28;01mimport\u001B[39;00m F\n\u001B[0;32m---> 15\u001B[0m \u001B[38;5;28;01mfrom\u001B[39;00m\u001B[38;5;250m \u001B[39m\u001B[38;5;21;01mpandas\u001B[39;00m\u001B[38;5;21;01m.\u001B[39;00m\u001B[38;5;21;01mcompat\u001B[39;00m\u001B[38;5;21;01m.\u001B[39;00m\u001B[38;5;21;01mnumpy\u001B[39;00m\u001B[38;5;250m \u001B[39m\u001B[38;5;28;01mimport\u001B[39;00m (\n\u001B[1;32m     16\u001B[0m     is_numpy_dev,\n\u001B[1;32m     17\u001B[0m     np_array_datetime64_compat,\n\u001B[1;32m     18\u001B[0m     np_datetime64_compat,\n\u001B[1;32m     19\u001B[0m     np_version_under1p18,\n\u001B[1;32m     20\u001B[0m     np_version_under1p19,\n\u001B[1;32m     21\u001B[0m     np_version_under1p20,\n\u001B[1;32m     22\u001B[0m )\n\u001B[1;32m     23\u001B[0m \u001B[38;5;28;01mfrom\u001B[39;00m\u001B[38;5;250m \u001B[39m\u001B[38;5;21;01mpandas\u001B[39;00m\u001B[38;5;21;01m.\u001B[39;00m\u001B[38;5;21;01mcompat\u001B[39;00m\u001B[38;5;21;01m.\u001B[39;00m\u001B[38;5;21;01mpyarrow\u001B[39;00m\u001B[38;5;250m \u001B[39m\u001B[38;5;28;01mimport\u001B[39;00m (\n\u001B[1;32m     24\u001B[0m     pa_version_under1p0,\n\u001B[1;32m     25\u001B[0m     pa_version_under2p0,\n\u001B[1;32m     26\u001B[0m     pa_version_under3p0,\n\u001B[1;32m     27\u001B[0m     pa_version_under4p0,\n\u001B[1;32m     28\u001B[0m )\n\u001B[1;32m     30\u001B[0m PY38 \u001B[38;5;241m=\u001B[39m sys\u001B[38;5;241m.\u001B[39mversion_info \u001B[38;5;241m>\u001B[39m\u001B[38;5;241m=\u001B[39m (\u001B[38;5;241m3\u001B[39m, \u001B[38;5;241m8\u001B[39m)\n",
      "File \u001B[0;32m~/.virtualenvs/PySOMVis/lib/python3.10/site-packages/pandas/compat/numpy/__init__.py:7\u001B[0m\n\u001B[1;32m      3\u001B[0m \u001B[38;5;28;01mimport\u001B[39;00m\u001B[38;5;250m \u001B[39m\u001B[38;5;21;01mre\u001B[39;00m\n\u001B[1;32m      5\u001B[0m \u001B[38;5;28;01mimport\u001B[39;00m\u001B[38;5;250m \u001B[39m\u001B[38;5;21;01mnumpy\u001B[39;00m\u001B[38;5;250m \u001B[39m\u001B[38;5;28;01mas\u001B[39;00m\u001B[38;5;250m \u001B[39m\u001B[38;5;21;01mnp\u001B[39;00m\n\u001B[0;32m----> 7\u001B[0m \u001B[38;5;28;01mfrom\u001B[39;00m\u001B[38;5;250m \u001B[39m\u001B[38;5;21;01mpandas\u001B[39;00m\u001B[38;5;21;01m.\u001B[39;00m\u001B[38;5;21;01mutil\u001B[39;00m\u001B[38;5;21;01m.\u001B[39;00m\u001B[38;5;21;01mversion\u001B[39;00m\u001B[38;5;250m \u001B[39m\u001B[38;5;28;01mimport\u001B[39;00m Version\n\u001B[1;32m      9\u001B[0m \u001B[38;5;66;03m# numpy versioning\u001B[39;00m\n\u001B[1;32m     10\u001B[0m _np_version \u001B[38;5;241m=\u001B[39m np\u001B[38;5;241m.\u001B[39m__version__\n",
      "File \u001B[0;32m~/.virtualenvs/PySOMVis/lib/python3.10/site-packages/pandas/util/__init__.py:1\u001B[0m\n\u001B[0;32m----> 1\u001B[0m \u001B[38;5;28;01mfrom\u001B[39;00m\u001B[38;5;250m \u001B[39m\u001B[38;5;21;01mpandas\u001B[39;00m\u001B[38;5;21;01m.\u001B[39;00m\u001B[38;5;21;01mutil\u001B[39;00m\u001B[38;5;21;01m.\u001B[39;00m\u001B[38;5;21;01m_decorators\u001B[39;00m\u001B[38;5;250m \u001B[39m\u001B[38;5;28;01mimport\u001B[39;00m (  \u001B[38;5;66;03m# noqa\u001B[39;00m\n\u001B[1;32m      2\u001B[0m     Appender,\n\u001B[1;32m      3\u001B[0m     Substitution,\n\u001B[1;32m      4\u001B[0m     cache_readonly,\n\u001B[1;32m      5\u001B[0m )\n\u001B[1;32m      7\u001B[0m \u001B[38;5;28;01mfrom\u001B[39;00m\u001B[38;5;250m \u001B[39m\u001B[38;5;21;01mpandas\u001B[39;00m\u001B[38;5;21;01m.\u001B[39;00m\u001B[38;5;21;01mcore\u001B[39;00m\u001B[38;5;21;01m.\u001B[39;00m\u001B[38;5;21;01mutil\u001B[39;00m\u001B[38;5;21;01m.\u001B[39;00m\u001B[38;5;21;01mhashing\u001B[39;00m\u001B[38;5;250m \u001B[39m\u001B[38;5;28;01mimport\u001B[39;00m (  \u001B[38;5;66;03m# noqa\u001B[39;00m\n\u001B[1;32m      8\u001B[0m     hash_array,\n\u001B[1;32m      9\u001B[0m     hash_pandas_object,\n\u001B[1;32m     10\u001B[0m )\n\u001B[1;32m     13\u001B[0m \u001B[38;5;28;01mdef\u001B[39;00m\u001B[38;5;250m \u001B[39m\u001B[38;5;21m__getattr__\u001B[39m(name):\n",
      "File \u001B[0;32m~/.virtualenvs/PySOMVis/lib/python3.10/site-packages/pandas/util/_decorators.py:14\u001B[0m\n\u001B[1;32m      6\u001B[0m \u001B[38;5;28;01mfrom\u001B[39;00m\u001B[38;5;250m \u001B[39m\u001B[38;5;21;01mtyping\u001B[39;00m\u001B[38;5;250m \u001B[39m\u001B[38;5;28;01mimport\u001B[39;00m (\n\u001B[1;32m      7\u001B[0m     Any,\n\u001B[1;32m      8\u001B[0m     Callable,\n\u001B[1;32m      9\u001B[0m     Mapping,\n\u001B[1;32m     10\u001B[0m     cast,\n\u001B[1;32m     11\u001B[0m )\n\u001B[1;32m     12\u001B[0m \u001B[38;5;28;01mimport\u001B[39;00m\u001B[38;5;250m \u001B[39m\u001B[38;5;21;01mwarnings\u001B[39;00m\n\u001B[0;32m---> 14\u001B[0m \u001B[38;5;28;01mfrom\u001B[39;00m\u001B[38;5;250m \u001B[39m\u001B[38;5;21;01mpandas\u001B[39;00m\u001B[38;5;21;01m.\u001B[39;00m\u001B[38;5;21;01m_libs\u001B[39;00m\u001B[38;5;21;01m.\u001B[39;00m\u001B[38;5;21;01mproperties\u001B[39;00m\u001B[38;5;250m \u001B[39m\u001B[38;5;28;01mimport\u001B[39;00m cache_readonly  \u001B[38;5;66;03m# noqa\u001B[39;00m\n\u001B[1;32m     15\u001B[0m \u001B[38;5;28;01mfrom\u001B[39;00m\u001B[38;5;250m \u001B[39m\u001B[38;5;21;01mpandas\u001B[39;00m\u001B[38;5;21;01m.\u001B[39;00m\u001B[38;5;21;01m_typing\u001B[39;00m\u001B[38;5;250m \u001B[39m\u001B[38;5;28;01mimport\u001B[39;00m F\n\u001B[1;32m     18\u001B[0m \u001B[38;5;28;01mdef\u001B[39;00m\u001B[38;5;250m \u001B[39m\u001B[38;5;21mdeprecate\u001B[39m(\n\u001B[1;32m     19\u001B[0m     name: \u001B[38;5;28mstr\u001B[39m,\n\u001B[1;32m     20\u001B[0m     alternative: Callable[\u001B[38;5;241m.\u001B[39m\u001B[38;5;241m.\u001B[39m\u001B[38;5;241m.\u001B[39m, Any],\n\u001B[0;32m   (...)\u001B[0m\n\u001B[1;32m     25\u001B[0m     msg: \u001B[38;5;28mstr\u001B[39m \u001B[38;5;241m|\u001B[39m \u001B[38;5;28;01mNone\u001B[39;00m \u001B[38;5;241m=\u001B[39m \u001B[38;5;28;01mNone\u001B[39;00m,\n\u001B[1;32m     26\u001B[0m ) \u001B[38;5;241m-\u001B[39m\u001B[38;5;241m>\u001B[39m Callable[[F], F]:\n",
      "File \u001B[0;32m~/.virtualenvs/PySOMVis/lib/python3.10/site-packages/pandas/_libs/__init__.py:13\u001B[0m\n\u001B[1;32m      1\u001B[0m __all__ \u001B[38;5;241m=\u001B[39m [\n\u001B[1;32m      2\u001B[0m     \u001B[38;5;124m\"\u001B[39m\u001B[38;5;124mNaT\u001B[39m\u001B[38;5;124m\"\u001B[39m,\n\u001B[1;32m      3\u001B[0m     \u001B[38;5;124m\"\u001B[39m\u001B[38;5;124mNaTType\u001B[39m\u001B[38;5;124m\"\u001B[39m,\n\u001B[0;32m   (...)\u001B[0m\n\u001B[1;32m      9\u001B[0m     \u001B[38;5;124m\"\u001B[39m\u001B[38;5;124mInterval\u001B[39m\u001B[38;5;124m\"\u001B[39m,\n\u001B[1;32m     10\u001B[0m ]\n\u001B[0;32m---> 13\u001B[0m \u001B[38;5;28;01mfrom\u001B[39;00m\u001B[38;5;250m \u001B[39m\u001B[38;5;21;01mpandas\u001B[39;00m\u001B[38;5;21;01m.\u001B[39;00m\u001B[38;5;21;01m_libs\u001B[39;00m\u001B[38;5;21;01m.\u001B[39;00m\u001B[38;5;21;01minterval\u001B[39;00m\u001B[38;5;250m \u001B[39m\u001B[38;5;28;01mimport\u001B[39;00m Interval\n\u001B[1;32m     14\u001B[0m \u001B[38;5;28;01mfrom\u001B[39;00m\u001B[38;5;250m \u001B[39m\u001B[38;5;21;01mpandas\u001B[39;00m\u001B[38;5;21;01m.\u001B[39;00m\u001B[38;5;21;01m_libs\u001B[39;00m\u001B[38;5;21;01m.\u001B[39;00m\u001B[38;5;21;01mtslibs\u001B[39;00m\u001B[38;5;250m \u001B[39m\u001B[38;5;28;01mimport\u001B[39;00m (\n\u001B[1;32m     15\u001B[0m     NaT,\n\u001B[1;32m     16\u001B[0m     NaTType,\n\u001B[0;32m   (...)\u001B[0m\n\u001B[1;32m     21\u001B[0m     iNaT,\n\u001B[1;32m     22\u001B[0m )\n",
      "File \u001B[0;32m~/.virtualenvs/PySOMVis/lib/python3.10/site-packages/pandas/_libs/interval.pyx:1\u001B[0m, in \u001B[0;36minit pandas._libs.interval\u001B[0;34m()\u001B[0m\n",
      "\u001B[0;31mValueError\u001B[0m: numpy.dtype size changed, may indicate binary incompatibility. Expected 96 from C header, got 88 from PyObject"
     ]
    }
   ],
   "source": [
    "import numpy as np\n",
    "import holoviews as hv\n",
    "hv.extension('bokeh')\n",
    "\n",
    "synth       = np.load('datasets\\synthetic\\sinusoidal.npy')\n",
    "codebook    = np.load('datasets\\synthetic\\map.npy')\n",
    "\n",
    "#2-D synusoidal signal\n",
    "hv.Points(synth[:,0])*hv.Points(synth[:,1])*hv.Points(synth[:,2]).opts(width=900,height=300)"
   ]
  },
  {
   "cell_type": "code",
   "execution_count": null,
   "id": "d343c35c",
   "metadata": {},
   "outputs": [],
   "source": [
    "import somoclu\n",
    "from pysomvis import PySOMVis\n",
    "hv.extension(\"bokeh\")\n",
    "\n",
    "n_rows, n_columns = 12, 4\n",
    "som = somoclu.Somoclu(n_columns, n_rows, compactsupport=False)\n",
    "som.train(synth, epochs = 1000)\n",
    "\n",
    "a = PySOMVis(weights=som.codebook, input_data=synth)\n",
    "a._mainview"
   ]
  },
  {
   "cell_type": "markdown",
   "id": "0c9b811e",
   "metadata": {},
   "source": [
    "## Climat Data (12 418 days (~35 years), 5 features)"
   ]
  },
  {
   "cell_type": "code",
   "execution_count": null,
   "id": "8db6328b",
   "metadata": {},
   "outputs": [],
   "source": [
    "import datetime\n",
    "import numpy as np\n",
    "import pandas as pd\n",
    "from sklearn.preprocessing import RobustScaler\n",
    "\n",
    "data = pd.read_excel('datasets\\climate\\climate_draw_data.xlsx', index_col=0)\n",
    "data = data.reset_index()\n",
    "\n",
    "def calc(row):\n",
    "    return datetime.datetime(int(row[0]), int(row[1]), int(row[2]))\n",
    "\n",
    "data['time'] = data.apply(calc, axis=1)\n",
    "data.drop(data.columns[[0, 1, 2, 5, 7, 9]], axis=1, inplace=True)\n",
    "\n",
    "data['RH2M'] = data.groupby(['RH2M']).apply(lambda x: x[['RH2M']].interpolate())\n",
    "data['PS'] = data.groupby(['PS']).apply(lambda x: x[['PS']].interpolate())\n",
    "data['T2M'] = data.groupby(['T2M']).apply(lambda x: x[['T2M']].interpolate())\n",
    "data['WS50M'] = data.groupby(['WS50M']).apply(lambda x: x[['WS50M']].interpolate())\n",
    "data['ALLSKY_SFC_LW_DWN'] = data.groupby(['ALLSKY_SFC_LW_DWN']).apply(lambda x: x[['ALLSKY_SFC_LW_DWN']].interpolate())\n",
    "\n",
    "data = data.set_index(keys='time')\n",
    "robustscaler = RobustScaler()\n",
    "for i in range(data.shape[1]):\n",
    "    x_scaled = robustscaler.fit_transform(data.iloc[:,i].values.reshape(-1,1))\n",
    "    data.iloc[:,i] = x_scaled\n",
    "year = np.array(data.loc['1985':'2020'])"
   ]
  },
  {
   "cell_type": "code",
   "execution_count": null,
   "id": "8d7fd4b4",
   "metadata": {},
   "outputs": [],
   "source": [
    "import somoclu\n",
    "from pysomvis import PySOMVis\n",
    "\n",
    "n_rows, n_columns = 19, 3\n",
    "som = somoclu.Somoclu(n_columns, n_rows, compactsupport=False, initialization='pca')\n",
    "som.train(year, epochs = 10000)\n",
    "\n",
    "#35 years visualisation\n",
    "Climat_Data = PySOMVis(weights=som.codebook, input_data=year)\n",
    "Climat_Data._mainview"
   ]
  },
  {
   "cell_type": "markdown",
   "id": "16304077",
   "metadata": {},
   "source": [
    "## Climat Data (trained SOM map19x3)"
   ]
  },
  {
   "cell_type": "code",
   "execution_count": null,
   "id": "e2ceaabd",
   "metadata": {},
   "outputs": [],
   "source": [
    "import numpy as np\n",
    "from pysomvis import PySOMVis\n",
    "\n",
    "evaldata = np.load('datasets\\climate\\climate (35 years).npy')\n",
    "codebook = np.load('datasets\\climate\\map.npy')\n",
    "\n",
    "#visualization\n",
    "Climat_Data2 = PySOMVis(weights=codebook, input_data=evaldata)\n",
    "Climat_Data2._mainview"
   ]
  },
  {
   "cell_type": "markdown",
   "id": "c0c67960",
   "metadata": {},
   "source": [
    "## 4 Data Sets, trained by SOMToolbox (http://www.ifs.tuwien.ac.at/dm/somtoolbox/index.html)"
   ]
  },
  {
   "cell_type": "code",
   "execution_count": 9,
   "id": "4af48119",
   "metadata": {},
   "outputs": [
    {
     "data": {},
     "metadata": {},
     "output_type": "display_data"
    },
    {
     "data": {},
     "metadata": {},
     "output_type": "display_data"
    },
    {
     "data": {
      "application/vnd.holoviews_exec.v0+json": "",
      "text/html": [
       "<div id='3681'>\n",
       "  <div class=\"bk-root\" id=\"adedfbad-5e64-4db5-ae38-355441244192\" data-root-id=\"3681\"></div>\n",
       "</div>\n",
       "<script type=\"application/javascript\">(function(root) {\n",
       "  function embed_document(root) {\n",
       "    var docs_json = {\"fc2a0945-cf36-4b06-928c-4d2fdbce1b30\":{\"defs\":[{\"extends\":null,\"module\":null,\"name\":\"ReactiveHTML1\",\"overrides\":[],\"properties\":[]},{\"extends\":null,\"module\":null,\"name\":\"FlexBox1\",\"overrides\":[],\"properties\":[{\"default\":\"flex-start\",\"kind\":null,\"name\":\"align_content\"},{\"default\":\"flex-start\",\"kind\":null,\"name\":\"align_items\"},{\"default\":\"row\",\"kind\":null,\"name\":\"flex_direction\"},{\"default\":\"wrap\",\"kind\":null,\"name\":\"flex_wrap\"},{\"default\":\"flex-start\",\"kind\":null,\"name\":\"justify_content\"}]},{\"extends\":null,\"module\":null,\"name\":\"GridStack1\",\"overrides\":[],\"properties\":[{\"default\":\"warn\",\"kind\":null,\"name\":\"mode\"},{\"default\":null,\"kind\":null,\"name\":\"ncols\"},{\"default\":null,\"kind\":null,\"name\":\"nrows\"},{\"default\":true,\"kind\":null,\"name\":\"allow_resize\"},{\"default\":true,\"kind\":null,\"name\":\"allow_drag\"},{\"default\":[],\"kind\":null,\"name\":\"state\"}]},{\"extends\":null,\"module\":null,\"name\":\"click1\",\"overrides\":[],\"properties\":[{\"default\":\"\",\"kind\":null,\"name\":\"terminal_output\"},{\"default\":\"\",\"kind\":null,\"name\":\"debug_name\"},{\"default\":0,\"kind\":null,\"name\":\"clears\"}]},{\"extends\":null,\"module\":null,\"name\":\"TemplateActions1\",\"overrides\":[],\"properties\":[{\"default\":0,\"kind\":null,\"name\":\"open_modal\"},{\"default\":0,\"kind\":null,\"name\":\"close_modal\"}]},{\"extends\":null,\"module\":null,\"name\":\"MaterialTemplateActions1\",\"overrides\":[],\"properties\":[{\"default\":0,\"kind\":null,\"name\":\"open_modal\"},{\"default\":0,\"kind\":null,\"name\":\"close_modal\"}]}],\"roots\":{\"references\":[{\"attributes\":{\"color_mapper\":{\"id\":\"3732\"},\"dh\":{\"field\":\"dh\"},\"dw\":{\"field\":\"dw\"},\"global_alpha\":{\"value\":1.0},\"image\":{\"field\":\"image\"},\"x\":{\"field\":\"x\"},\"y\":{\"field\":\"y\"}},\"id\":\"3744\",\"type\":\"Image\"},{\"attributes\":{},\"id\":\"3734\",\"type\":\"Selection\"},{\"attributes\":{\"data\":{\"x\":{\"__ndarray__\":\"\",\"dtype\":\"float64\",\"order\":\"little\",\"shape\":[0]},\"y\":{\"__ndarray__\":\"\",\"dtype\":\"float64\",\"order\":\"little\",\"shape\":[0]}},\"selected\":{\"id\":\"3756\"},\"selection_policy\":{\"id\":\"3775\"}},\"id\":\"3755\",\"type\":\"ColumnDataSource\"},{\"attributes\":{\"source\":{\"id\":\"3746\"}},\"id\":\"3753\",\"type\":\"CDSView\"},{\"attributes\":{},\"id\":\"3704\",\"type\":\"LinearScale\"},{\"attributes\":{\"line_alpha\":{\"field\":\"alpha\"},\"line_cap\":{\"value\":\"butt\"},\"line_color\":{\"value\":\"red\"},\"line_dash\":{\"value\":[]},\"line_dash_offset\":{\"value\":0},\"line_join\":{\"value\":\"bevel\"},\"line_width\":{\"value\":2},\"x0\":{\"field\":\"x0\"},\"x1\":{\"field\":\"x1\"},\"y0\":{\"field\":\"y0\"},\"y1\":{\"field\":\"y1\"}},\"id\":\"3754\",\"type\":\"Segment\"},{\"attributes\":{\"line_alpha\":{\"field\":\"alpha\"},\"line_color\":{\"value\":\"red\"},\"line_width\":{\"value\":2},\"x0\":{\"field\":\"x0\"},\"x1\":{\"field\":\"x1\"},\"y0\":{\"field\":\"y0\"},\"y1\":{\"field\":\"y1\"}},\"id\":\"3751\",\"type\":\"Segment\"},{\"attributes\":{\"line_alpha\":{\"field\":\"alpha\"},\"line_color\":{\"value\":\"red\"},\"line_width\":{\"value\":2},\"x0\":{\"field\":\"x0\"},\"x1\":{\"field\":\"x1\"},\"y0\":{\"field\":\"y0\"},\"y1\":{\"field\":\"y1\"}},\"id\":\"3750\",\"type\":\"Segment\"},{\"attributes\":{},\"id\":\"3747\",\"type\":\"Selection\"},{\"attributes\":{\"end\":0.5,\"reset_end\":0.5,\"reset_start\":-0.5,\"start\":-0.5,\"tags\":[[[\"x\",\"x\",null]]]},\"id\":\"3695\",\"type\":\"Range1d\"},{\"attributes\":{\"coordinates\":null,\"data_source\":{\"id\":\"3755\"},\"glyph\":{\"id\":\"3758\"},\"group\":null,\"hover_glyph\":null,\"muted_glyph\":{\"id\":\"3760\"},\"nonselection_glyph\":{\"id\":\"3759\"},\"selection_glyph\":{\"id\":\"3763\"},\"view\":{\"id\":\"3762\"}},\"id\":\"3761\",\"type\":\"GlyphRenderer\"},{\"attributes\":{\"end\":0.5,\"reset_end\":0.5,\"reset_start\":-0.5,\"start\":-0.5,\"tags\":[[[\"y\",\"y\",null]]]},\"id\":\"3696\",\"type\":\"Range1d\"},{\"attributes\":{\"source\":{\"id\":\"3755\"}},\"id\":\"3762\",\"type\":\"CDSView\"},{\"attributes\":{\"below\":[{\"id\":\"3706\"}],\"center\":[{\"id\":\"3709\"},{\"id\":\"3713\"}],\"height\":500,\"left\":[{\"id\":\"3710\"}],\"margin\":[5,5,5,5],\"min_border_bottom\":10,\"min_border_left\":10,\"min_border_right\":10,\"min_border_top\":10,\"renderers\":[{\"id\":\"3742\"},{\"id\":\"3752\"},{\"id\":\"3761\"}],\"sizing_mode\":\"fixed\",\"title\":{\"id\":\"3698\"},\"toolbar\":{\"id\":\"3720\"},\"width\":500,\"x_range\":{\"id\":\"3695\"},\"x_scale\":{\"id\":\"3702\"},\"y_range\":{\"id\":\"3696\"},\"y_scale\":{\"id\":\"3704\"}},\"id\":\"3697\",\"subtype\":\"Figure\",\"type\":\"Plot\"},{\"attributes\":{\"coordinates\":null,\"data_source\":{\"id\":\"3746\"},\"glyph\":{\"id\":\"3749\"},\"group\":null,\"hover_glyph\":null,\"muted_glyph\":{\"id\":\"3751\"},\"nonselection_glyph\":{\"id\":\"3750\"},\"selection_glyph\":{\"id\":\"3754\"},\"view\":{\"id\":\"3753\"}},\"id\":\"3752\",\"type\":\"GlyphRenderer\"},{\"attributes\":{\"angle\":{\"value\":0.0},\"fill_alpha\":{\"value\":1.0},\"fill_color\":{\"value\":\"red\"},\"hatch_alpha\":{\"value\":1.0},\"hatch_color\":{\"value\":\"red\"},\"hatch_scale\":{\"value\":12.0},\"hatch_weight\":{\"value\":1.0},\"line_alpha\":{\"value\":1.0},\"line_cap\":{\"value\":\"butt\"},\"line_color\":{\"value\":\"red\"},\"line_dash\":{\"value\":[]},\"line_dash_offset\":{\"value\":0},\"line_join\":{\"value\":\"bevel\"},\"line_width\":{\"value\":1},\"marker\":{\"value\":\"asterisk\"},\"size\":{\"value\":2},\"x\":{\"field\":\"x\"},\"y\":{\"field\":\"y\"}},\"id\":\"3763\",\"type\":\"Scatter\"},{\"attributes\":{\"data\":{\"dh\":[1.0],\"dw\":[1.0],\"image\":[{\"__ndarray__\":\"oJ0MqXuoFkAXZr9GZ0QVQN8jAFxaaRRAps5I2UzqE0Cdm0M+ovQSQGyjDy2+jRJAIes+fIGeEUBMDtTDAtgRQCmnhHB7PBVASMQippKmF0AD0gH+UwkWQAZ2stW/ZRVAMpEqmUWfFEAaBr67GUMUQJzZTmFDsxNAOW67eGqRE0AB0sT1VeYSQHD9wiNhSxNAHcOMhMGPF0Cm6iyI8jAYQFRF6EJs+RVAvfY43US1FUAxQPkFEsUUQOxBbpTOERRAkd/iEpzxE0BcFRryJ/sTQAo49w/+chRAKDgSeFE8F0Avih29q6wYQL15Ks6yChlAICVW3cbGFEAvPDnIb4MVQLKhny9FPhVARMReZj8MFUBqvSxgqMIVQA8r+BNhxxZA7S3SNIXJF0B0Sl30DJ4YQAvfWBllNBlAGewNv8WqGUCK1YfXRmAUQEH9RLwVDhVAXA84pW4EFkB6ECeVBHwWQBWGRu5dFhdAW9IGq01HF0C9d2WM5BsYQNyQ99YWFhlAVDYEMe8rGkCfELuniqMaQGGE2/b68xNAwKXdUxyTFEAWpbvmjFkWQFCbkHd4tRZA9swtucxjF0AjJsoQHzEYQGepi1bTThhAlfs/kbw7GUAr/Bxcu9QaQPcQGcsebRtA67AJTUH3FEB7Fct0jCEVQF8U5K+PTxZAdcOJqgEPF0BXQ7/OR0sYQG5Pe3UcahhAzw+c8rsOGUBPnptqGwEZQKIL1tBhiRpAQi3JpFU/G0DJwLnioh0WQJWnkvVC8xVAf4syraomFkBwe7JNBMYXQM/DLPyvsxhAzDzamOE3GUDnFQLYJqwZQDsSux9eoBlA1jKNBYj7GkB3f9MLrMEcQOqBjVfd+xVAdB1R+L/GFUDcuUXw6ZcWQPiT1OYBwhdA4a1P6tQwGEA0fSFg2d0ZQMEd6sGKFBtAZJwNBFqlGkBGnOP9yVEcQL8SNd220x1A7zjnOT9dFUBOblzB3lsUQME9pAt2JxZA7MFmpFXtFkBQvwUqt6kXQKkinkO3PRlAw96Awoh6GUDJ0HrDAAEbQBJJGMG+txxAr8H6ZqvbHkA=\",\"dtype\":\"float64\",\"order\":\"little\",\"shape\":[10,10]}],\"x\":[-0.5],\"y\":[-0.5]},\"selected\":{\"id\":\"3734\"},\"selection_policy\":{\"id\":\"3771\"}},\"id\":\"3733\",\"type\":\"ColumnDataSource\"},{\"attributes\":{\"client_comm_id\":\"8c2d4601a46c4ea49a84f90b27400ab5\",\"comm_id\":\"b5035e4ee2a947bf8a0a3c07575b5dac\",\"plot_id\":\"3681\"},\"id\":\"3940\",\"type\":\"panel.models.comm_manager.CommManager\"},{\"attributes\":{},\"id\":\"3771\",\"type\":\"UnionRenderers\"},{\"attributes\":{\"tools\":[{\"id\":\"3714\"},{\"id\":\"3715\"},{\"id\":\"3716\"},{\"id\":\"3717\"},{\"id\":\"3718\"}]},\"id\":\"3720\",\"type\":\"Toolbar\"},{\"attributes\":{\"coordinates\":null,\"group\":null,\"text_color\":\"black\",\"text_font_size\":\"12pt\"},\"id\":\"3698\",\"type\":\"Title\"},{\"attributes\":{\"children\":[{\"id\":\"3893\"},{\"id\":\"3894\"}],\"margin\":[5,5,5,5],\"min_width\":300,\"name\":\"Component Planes\",\"width\":300},\"id\":\"3892\",\"type\":\"Column\"},{\"attributes\":{\"axis_label\":\"x\",\"coordinates\":null,\"formatter\":{\"id\":\"3727\"},\"group\":null,\"major_label_policy\":{\"id\":\"3728\"},\"ticker\":{\"id\":\"3707\"}},\"id\":\"3706\",\"type\":\"LinearAxis\"},{\"attributes\":{},\"id\":\"3716\",\"type\":\"WheelZoomTool\"},{\"attributes\":{\"children\":[{\"id\":\"3892\"},{\"id\":\"3895\"}],\"margin\":[0,0,0,0],\"name\":\"\"},\"id\":\"3891\",\"type\":\"Column\"},{\"attributes\":{\"axis\":{\"id\":\"3710\"},\"coordinates\":null,\"dimension\":1,\"grid_line_color\":null,\"group\":null,\"ticker\":null},\"id\":\"3713\",\"type\":\"Grid\"},{\"attributes\":{\"line_alpha\":{\"field\":\"alpha\"},\"line_color\":{\"value\":\"red\"},\"line_width\":{\"value\":2},\"x0\":{\"field\":\"x0\"},\"x1\":{\"field\":\"x1\"},\"y0\":{\"field\":\"y0\"},\"y1\":{\"field\":\"y1\"}},\"id\":\"3749\",\"type\":\"Segment\"},{\"attributes\":{\"color_mapper\":{\"id\":\"3732\"},\"dh\":{\"field\":\"dh\"},\"dw\":{\"field\":\"dw\"},\"global_alpha\":{\"value\":0.1},\"image\":{\"field\":\"image\"},\"x\":{\"field\":\"x\"},\"y\":{\"field\":\"y\"}},\"id\":\"3738\",\"type\":\"Image\"},{\"attributes\":{},\"id\":\"3707\",\"type\":\"BasicTicker\"},{\"attributes\":{\"color_mapper\":{\"id\":\"3732\"},\"dh\":{\"field\":\"dh\"},\"dw\":{\"field\":\"dw\"},\"image\":{\"field\":\"image\"},\"x\":{\"field\":\"x\"},\"y\":{\"field\":\"y\"}},\"id\":\"3736\",\"type\":\"Image\"},{\"attributes\":{},\"id\":\"3715\",\"type\":\"PanTool\"},{\"attributes\":{\"axis\":{\"id\":\"3706\"},\"coordinates\":null,\"grid_line_color\":null,\"group\":null,\"ticker\":null},\"id\":\"3709\",\"type\":\"Grid\"},{\"attributes\":{},\"id\":\"3711\",\"type\":\"BasicTicker\"},{\"attributes\":{},\"id\":\"3773\",\"type\":\"UnionRenderers\"},{\"attributes\":{},\"id\":\"3702\",\"type\":\"LinearScale\"},{\"attributes\":{\"margin\":[5,10,5,10],\"name\":\"\",\"text\":\"<b>Component Planes</b>\"},\"id\":\"3893\",\"type\":\"Div\"},{\"attributes\":{\"fill_alpha\":{\"value\":0.1},\"fill_color\":{\"value\":\"red\"},\"hatch_alpha\":{\"value\":0.1},\"hatch_color\":{\"value\":\"red\"},\"line_alpha\":{\"value\":0.1},\"line_color\":{\"value\":\"red\"},\"marker\":{\"value\":\"asterisk\"},\"size\":{\"value\":2},\"x\":{\"field\":\"x\"},\"y\":{\"field\":\"y\"}},\"id\":\"3759\",\"type\":\"Scatter\"},{\"attributes\":{\"children\":[{\"id\":\"3682\"},{\"id\":\"3896\"}],\"margin\":[0,0,0,0],\"name\":\"Column10769\"},\"id\":\"3681\",\"type\":\"Column\"},{\"attributes\":{},\"id\":\"3728\",\"type\":\"AllLabels\"},{\"attributes\":{\"children\":[{\"id\":\"3897\"}],\"margin\":[0,0,0,0],\"name\":\"Column10768\"},\"id\":\"3896\",\"type\":\"Column\"},{\"attributes\":{\"fill_alpha\":{\"value\":0.2},\"fill_color\":{\"value\":\"red\"},\"hatch_alpha\":{\"value\":0.2},\"hatch_color\":{\"value\":\"red\"},\"line_alpha\":{\"value\":0.2},\"line_color\":{\"value\":\"red\"},\"marker\":{\"value\":\"asterisk\"},\"size\":{\"value\":2},\"x\":{\"field\":\"x\"},\"y\":{\"field\":\"y\"}},\"id\":\"3760\",\"type\":\"Scatter\"},{\"attributes\":{\"children\":[{\"id\":\"3683\"},{\"id\":\"3693\"}],\"margin\":[0,0,0,0],\"name\":\"Column10767\"},\"id\":\"3682\",\"type\":\"Column\"},{\"attributes\":{\"axis_label\":\"y\",\"coordinates\":null,\"formatter\":{\"id\":\"3730\"},\"group\":null,\"major_label_policy\":{\"id\":\"3731\"},\"ticker\":{\"id\":\"3711\"}},\"id\":\"3710\",\"type\":\"LinearAxis\"},{\"attributes\":{\"margin\":[5,5,5,5],\"name\":\"Str10786\",\"text\":\"&lt;pre&gt;Slicing weight vector according its components.&lt;/pre&gt;\"},\"id\":\"3895\",\"type\":\"panel.models.markup.HTML\"},{\"attributes\":{},\"id\":\"3714\",\"type\":\"SaveTool\"},{\"attributes\":{\"end\":3,\"margin\":[5,10,5,10],\"start\":0,\"title\":\"sep_length\",\"value\":0},\"id\":\"3894\",\"type\":\"Slider\"},{\"attributes\":{\"coordinates\":null,\"data_source\":{\"id\":\"3733\"},\"glyph\":{\"id\":\"3736\"},\"group\":null,\"hover_glyph\":null,\"muted_glyph\":{\"id\":\"3740\"},\"nonselection_glyph\":{\"id\":\"3738\"},\"selection_glyph\":{\"id\":\"3744\"},\"view\":{\"id\":\"3743\"}},\"id\":\"3742\",\"type\":\"GlyphRenderer\"},{\"attributes\":{\"children\":[{\"id\":\"3684\"}],\"margin\":[0,0,0,0],\"name\":\"Column10732\"},\"id\":\"3683\",\"type\":\"Column\"},{\"attributes\":{\"children\":[{\"id\":\"3891\"}],\"margin\":[0,0,0,0],\"name\":\"Row10764\"},\"id\":\"3890\",\"type\":\"Row\"},{\"attributes\":{\"overlay\":{\"id\":\"3719\"}},\"id\":\"3717\",\"type\":\"BoxZoomTool\"},{\"attributes\":{\"children\":[{\"id\":\"3685\"},{\"id\":\"3686\"},{\"id\":\"3687\"},{\"id\":\"3688\"},{\"id\":\"3689\"},{\"id\":\"3690\"},{\"id\":\"3691\"},{\"id\":\"3692\"}],\"margin\":[5,5,5,5],\"min_width\":700,\"name\":\"\",\"width\":700},\"id\":\"3684\",\"type\":\"Row\"},{\"attributes\":{},\"id\":\"3718\",\"type\":\"ResetTool\"},{\"attributes\":{\"children\":[{\"id\":\"3697\"}],\"margin\":[0,0,0,0],\"name\":\"Column10763\"},\"id\":\"3694\",\"type\":\"Column\"},{\"attributes\":{\"margin\":[5,10,5,10],\"name\":\"\",\"text\":\"<b></b>\"},\"id\":\"3685\",\"type\":\"Div\"},{\"attributes\":{},\"id\":\"3756\",\"type\":\"Selection\"},{\"attributes\":{\"margin\":[0,0,0,0],\"name\":\"Row10765\"},\"id\":\"3897\",\"type\":\"Row\"},{\"attributes\":{},\"id\":\"3775\",\"type\":\"UnionRenderers\"},{\"attributes\":{\"bottom_units\":\"screen\",\"coordinates\":null,\"fill_alpha\":0.5,\"fill_color\":\"lightgrey\",\"group\":null,\"left_units\":\"screen\",\"level\":\"overlay\",\"line_alpha\":1.0,\"line_color\":\"black\",\"line_dash\":[4,4],\"line_width\":2,\"right_units\":\"screen\",\"syncable\":false,\"top_units\":\"screen\"},\"id\":\"3719\",\"type\":\"BoxAnnotation\"},{\"attributes\":{\"margin\":[5,10,5,10],\"options\":[[\"0\",\"Component Planes\"],[\"1\",\"Hit Histogram\"],[\"2\",\"U-matrix\"],[\"3\",\"D-Matrix\"],[\"4\",\"P-matrix & U*-matrix\"],[\"5\",\"Smoothed Data Histograms\"],[\"6\",\"Pie Chart\"],[\"7\",\"Neighbourhood Graph\"],[\"8\",\"Chessboard\"],[\"9\",\"Clustering\"],[\"10\",\"Metro Map\"],[\"11\",\"Quantization Error\"],[\"12\",\"SOMStreamVis\"],[\"13\",\"Sky Metaphor\"],[\"14\",\"Topographic error\"],[\"15\",\"Intrinsic distance\"],[\"16\",\"Activity Histogram\"],[\"17\",\"Minimum Spanning Tree\"],[\"18\",\"Cluster Connection\"],[\"19\",\"Mnemonic SOM\"]],\"value\":\"0\"},\"id\":\"3686\",\"type\":\"panel.models.widgets.CustomSelect\"},{\"attributes\":{\"icon\":null,\"label\":\"\\u2194\",\"margin\":[5,10,5,10],\"subscribed_events\":[\"button_click\"]},\"id\":\"3690\",\"type\":\"Button\"},{\"attributes\":{},\"id\":\"3727\",\"type\":\"BasicTickFormatter\"},{\"attributes\":{\"icon\":null,\"label\":\"\\u21b7\",\"margin\":[5,10,5,10],\"subscribed_events\":[\"button_click\"]},\"id\":\"3689\",\"type\":\"Button\"},{\"attributes\":{},\"id\":\"3731\",\"type\":\"AllLabels\"},{\"attributes\":{\"fill_color\":{\"value\":\"red\"},\"hatch_color\":{\"value\":\"red\"},\"line_color\":{\"value\":\"red\"},\"marker\":{\"value\":\"asterisk\"},\"size\":{\"value\":2},\"x\":{\"field\":\"x\"},\"y\":{\"field\":\"y\"}},\"id\":\"3758\",\"type\":\"Scatter\"},{\"attributes\":{\"margin\":[5,10,5,10],\"options\":[[\"PiYG\",\"PiYG\"],[\"PRGn\",\"PRGn\"],[\"BrBG\",\"BrBG\"],[\"PuOr\",\"PuOr\"],[\"RdGy\",\"RdGy\"],[\"RdBu\",\"RdBu\"],[\"RdYlBu\",\"RdYlBu\"],[\"RdYlGn\",\"RdYlGn\"],[\"Spectral\",\"Spectral\"],[\"coolwarm\",\"coolwarm\"],[\"bwr\",\"bwr\"],[\"seismic\",\"seismic\"],[\"gist_gray\",\"gist_gray\"],[\"bone\",\"bone\"],[\"pink\",\"pink\"],[\"spring\",\"spring\"],[\"summer\",\"summer\"],[\"autumn\",\"autumn\"],[\"winter\",\"winter\"],[\"cool\",\"cool\"],[\"Wistia\",\"Wistia\"],[\"hot\",\"hot\"],[\"afmhot\",\"afmhot\"],[\"gist_heat\",\"gist_heat\"],[\"copper\",\"copper\"],[\"Greys\",\"Greys\"],[\"Purples\",\"Purples\"],[\"Blues\",\"Blues\"],[\"Greens\",\"Greens\"],[\"Oranges\",\"Oranges\"],[\"Reds\",\"Reds\"],[\"YlOrBr\",\"YlOrBr\"],[\"YlOrRd\",\"YlOrRd\"],[\"OrRd\",\"OrRd\"],[\"PuRd\",\"PuRd\"],[\"RdPu\",\"RdPu\"],[\"BuPu\",\"BuPu\"],[\"GnBu\",\"GnBu\"],[\"PuBu\",\"PuBu\"],[\"YlGnBu\",\"YlGnBu\"],[\"PuBuGn\",\"PuBuGn\"],[\"BuGn\",\"BuGn\"],[\"YlGn\",\"YlGn\"],[\"viridis\",\"viridis\"],[\"plasma\",\"plasma\"],[\"inferno\",\"inferno\"],[\"magma\",\"magma\"],[\"cividis\",\"cividis\"],[\"twilight\",\"twilight\"],[\"twilight_shifted\",\"twilight_shifted\"],[\"hsv\",\"hsv\"],[\"Pastel1\",\"Pastel1\"],[\"Paired\",\"Paired\"],[\"Accent\",\"Accent\"],[\"Dark2\",\"Dark2\"],[\"Set1\",\"Set1\"],[\"Set2\",\"Set2\"],[\"Set3\",\"Set3\"],[\"tab10\",\"tab10\"],[\"tab20\",\"tab20\"],[\"tab20b\",\"tab20b\"],[\"tab20c\",\"tab20c\"],[\"flag\",\"flag\"],[\"prism\",\"prism\"],[\"ocean\",\"ocean\"],[\"gist_earth\",\"gist_earth\"],[\"terrain\",\"terrain\"],[\"gist_stern\",\"gist_stern\"],[\"gnuplot\",\"gnuplot\"],[\"gnuplot2\",\"gnuplot2\"],[\"CMRmap\",\"CMRmap\"],[\"cubehelix\",\"cubehelix\"],[\"brg\",\"brg\"],[\"gist_rainbow\",\"gist_rainbow\"],[\"rainbow\",\"rainbow\"],[\"jet\",\"jet\"],[\"turbo\",\"turbo\"],[\"nipy_spectral\",\"nipy_spectral\"],[\"gist_ncar\",\"gist_ncar\"],[\"glasbey_dark\",\"glasbey_dark\"]],\"value\":\"jet\"},\"id\":\"3687\",\"type\":\"panel.models.widgets.CustomSelect\"},{\"attributes\":{\"data\":{\"x0\":{\"__ndarray__\":\"\",\"dtype\":\"float64\",\"order\":\"little\",\"shape\":[0]},\"x1\":{\"__ndarray__\":\"\",\"dtype\":\"float64\",\"order\":\"little\",\"shape\":[0]},\"y0\":{\"__ndarray__\":\"\",\"dtype\":\"float64\",\"order\":\"little\",\"shape\":[0]},\"y1\":{\"__ndarray__\":\"\",\"dtype\":\"float64\",\"order\":\"little\",\"shape\":[0]}},\"selected\":{\"id\":\"3747\"},\"selection_policy\":{\"id\":\"3773\"}},\"id\":\"3746\",\"type\":\"ColumnDataSource\"},{\"attributes\":{\"icon\":null,\"label\":\"\\u21b6\",\"margin\":[5,10,5,10],\"subscribed_events\":[\"button_click\"]},\"id\":\"3688\",\"type\":\"Button\"},{\"attributes\":{},\"id\":\"3730\",\"type\":\"BasicTickFormatter\"},{\"attributes\":{\"icon\":null,\"label\":\"\\u2195\",\"margin\":[5,10,5,10],\"subscribed_events\":[\"button_click\"]},\"id\":\"3691\",\"type\":\"Button\"},{\"attributes\":{\"source\":{\"id\":\"3733\"}},\"id\":\"3743\",\"type\":\"CDSView\"},{\"attributes\":{\"labels\":[\"interpolation\"],\"margin\":[5,10,5,10]},\"id\":\"3692\",\"type\":\"CheckboxGroup\"},{\"attributes\":{\"children\":[{\"id\":\"3694\"},{\"id\":\"3890\"}],\"margin\":[0,0,0,0],\"name\":\"Row10766\"},\"id\":\"3693\",\"type\":\"Row\"},{\"attributes\":{\"high\":7.714521035246817,\"low\":4.404790822353591,\"nan_color\":\"rgba(0, 0, 0, 0)\",\"palette\":[\"#00007f\",\"#000084\",\"#000088\",\"#00008d\",\"#000091\",\"#000096\",\"#00009a\",\"#00009f\",\"#0000a3\",\"#0000a8\",\"#0000ac\",\"#0000b1\",\"#0000b6\",\"#0000ba\",\"#0000bf\",\"#0000c3\",\"#0000c8\",\"#0000cc\",\"#0000d1\",\"#0000d5\",\"#0000da\",\"#0000de\",\"#0000e3\",\"#0000e8\",\"#0000ec\",\"#0000f1\",\"#0000f5\",\"#0000fa\",\"#0000fe\",\"#0000ff\",\"#0000ff\",\"#0000ff\",\"#0000ff\",\"#0004ff\",\"#0008ff\",\"#000cff\",\"#0010ff\",\"#0014ff\",\"#0018ff\",\"#001cff\",\"#0020ff\",\"#0024ff\",\"#0028ff\",\"#002cff\",\"#0030ff\",\"#0034ff\",\"#0038ff\",\"#003cff\",\"#0040ff\",\"#0044ff\",\"#0048ff\",\"#004cff\",\"#0050ff\",\"#0054ff\",\"#0058ff\",\"#005cff\",\"#0060ff\",\"#0064ff\",\"#0068ff\",\"#006cff\",\"#0070ff\",\"#0074ff\",\"#0078ff\",\"#007cff\",\"#0080ff\",\"#0084ff\",\"#0088ff\",\"#008cff\",\"#0090ff\",\"#0094ff\",\"#0098ff\",\"#009cff\",\"#00a0ff\",\"#00a4ff\",\"#00a8ff\",\"#00acff\",\"#00b0ff\",\"#00b4ff\",\"#00b8ff\",\"#00bcff\",\"#00c0ff\",\"#00c4ff\",\"#00c8ff\",\"#00ccff\",\"#00d0ff\",\"#00d4ff\",\"#00d8ff\",\"#00dcfe\",\"#00e0fa\",\"#00e4f7\",\"#02e8f4\",\"#05ecf1\",\"#08f0ed\",\"#0cf4ea\",\"#0ff8e7\",\"#12fce4\",\"#15ffe1\",\"#18ffdd\",\"#1cffda\",\"#1fffd7\",\"#22ffd4\",\"#25ffd0\",\"#29ffcd\",\"#2cffca\",\"#2fffc7\",\"#32ffc3\",\"#36ffc0\",\"#39ffbd\",\"#3cffba\",\"#3fffb7\",\"#42ffb3\",\"#46ffb0\",\"#49ffad\",\"#4cffaa\",\"#4fffa6\",\"#53ffa3\",\"#56ffa0\",\"#59ff9d\",\"#5cff9a\",\"#5fff96\",\"#63ff93\",\"#66ff90\",\"#69ff8d\",\"#6cff89\",\"#70ff86\",\"#73ff83\",\"#76ff80\",\"#79ff7d\",\"#7cff79\",\"#80ff76\",\"#83ff73\",\"#86ff70\",\"#89ff6c\",\"#8dff69\",\"#90ff66\",\"#93ff63\",\"#96ff5f\",\"#9aff5c\",\"#9dff59\",\"#a0ff56\",\"#a3ff53\",\"#a6ff4f\",\"#aaff4c\",\"#adff49\",\"#b0ff46\",\"#b3ff42\",\"#b7ff3f\",\"#baff3c\",\"#bdff39\",\"#c0ff36\",\"#c3ff32\",\"#c7ff2f\",\"#caff2c\",\"#cdff29\",\"#d0ff25\",\"#d4ff22\",\"#d7ff1f\",\"#daff1c\",\"#ddff18\",\"#e0ff15\",\"#e4ff12\",\"#e7ff0f\",\"#eaff0c\",\"#edff08\",\"#f1fc05\",\"#f4f802\",\"#f7f400\",\"#faf000\",\"#feed00\",\"#ffe900\",\"#ffe500\",\"#ffe200\",\"#ffde00\",\"#ffda00\",\"#ffd700\",\"#ffd300\",\"#ffcf00\",\"#ffcb00\",\"#ffc800\",\"#ffc400\",\"#ffc000\",\"#ffbd00\",\"#ffb900\",\"#ffb500\",\"#ffb100\",\"#ffae00\",\"#ffaa00\",\"#ffa600\",\"#ffa300\",\"#ff9f00\",\"#ff9b00\",\"#ff9800\",\"#ff9400\",\"#ff9000\",\"#ff8c00\",\"#ff8900\",\"#ff8500\",\"#ff8100\",\"#ff7e00\",\"#ff7a00\",\"#ff7600\",\"#ff7300\",\"#ff6f00\",\"#ff6b00\",\"#ff6700\",\"#ff6400\",\"#ff6000\",\"#ff5c00\",\"#ff5900\",\"#ff5500\",\"#ff5100\",\"#ff4d00\",\"#ff4a00\",\"#ff4600\",\"#ff4200\",\"#ff3f00\",\"#ff3b00\",\"#ff3700\",\"#ff3400\",\"#ff3000\",\"#ff2c00\",\"#ff2800\",\"#ff2500\",\"#ff2100\",\"#ff1d00\",\"#ff1a00\",\"#ff1600\",\"#fe1200\",\"#fa0f00\",\"#f50b00\",\"#f10700\",\"#ec0300\",\"#e80000\",\"#e30000\",\"#de0000\",\"#da0000\",\"#d50000\",\"#d10000\",\"#cc0000\",\"#c80000\",\"#c30000\",\"#bf0000\",\"#ba0000\",\"#b60000\",\"#b10000\",\"#ac0000\",\"#a80000\",\"#a30000\",\"#9f0000\",\"#9a0000\",\"#960000\",\"#910000\",\"#8d0000\",\"#880000\",\"#840000\",\"#7f0000\"]},\"id\":\"3732\",\"type\":\"LinearColorMapper\"},{\"attributes\":{\"color_mapper\":{\"id\":\"3732\"},\"dh\":{\"field\":\"dh\"},\"dw\":{\"field\":\"dw\"},\"global_alpha\":{\"value\":0.2},\"image\":{\"field\":\"image\"},\"x\":{\"field\":\"x\"},\"y\":{\"field\":\"y\"}},\"id\":\"3740\",\"type\":\"Image\"}],\"root_ids\":[\"3681\",\"3940\"]},\"title\":\"Bokeh Application\",\"version\":\"2.4.3\"}};\n",
       "    var render_items = [{\"docid\":\"fc2a0945-cf36-4b06-928c-4d2fdbce1b30\",\"root_ids\":[\"3681\"],\"roots\":{\"3681\":\"adedfbad-5e64-4db5-ae38-355441244192\"}}];\n",
       "    root.Bokeh.embed.embed_items_notebook(docs_json, render_items);\n",
       "  }\n",
       "  if (root.Bokeh !== undefined && root.Bokeh.Panel !== undefined) {\n",
       "    embed_document(root);\n",
       "  } else {\n",
       "    var attempts = 0;\n",
       "    var timer = setInterval(function(root) {\n",
       "      if (root.Bokeh !== undefined && root.Bokeh.Panel !== undefined) {\n",
       "        clearInterval(timer);\n",
       "        embed_document(root);\n",
       "      } else if (document.readyState == \"complete\") {\n",
       "        attempts++;\n",
       "        if (attempts > 200) {\n",
       "          clearInterval(timer);\n",
       "          console.log(\"Bokeh: ERROR: Unable to run BokehJS code because BokehJS library is missing\");\n",
       "        }\n",
       "      }\n",
       "    }, 25, root)\n",
       "  }\n",
       "})(window);</script>"
      ],
      "text/plain": [
       "Column\n",
       "    [0] Column\n",
       "        [0] Column\n",
       "            [0] Row(margin=5, width=700)\n",
       "                [0] StaticText(value='<b></b>')\n",
       "                [1] Select(options=OrderedDict([('Component P...]), value=0)\n",
       "                [2] Select(options=OrderedDict([('PiYG', ...]), value='jet')\n",
       "                [3] Button(name='↶')\n",
       "                [4] Button(name='↷')\n",
       "                [5] Button(name='↔')\n",
       "                [6] Button(name='↕')\n",
       "                [7] Checkbox(name='interpolation')\n",
       "        [1] Row\n",
       "            [0] Column\n",
       "                [0] HoloViews(DynamicMap)\n",
       "            [1] Row\n",
       "                [0] Column\n",
       "                    [0] Column(margin=5, name='Component Planes', width=300)\n",
       "                        [0] StaticText(value='<b>Component Planes</b>')\n",
       "                        [1] IntSlider(end=3, name='sep_length')\n",
       "                    [1] Str(str)\n",
       "    [1] Column\n",
       "        [0] Row()"
      ]
     },
     "execution_count": 9,
     "metadata": {
      "application/vnd.holoviews_exec.v0+json": {
       "id": "3681"
      }
     },
     "output_type": "execute_result"
    }
   ],
   "source": [
    "from pysomvis import PySOMVis\n",
    "from SOMToolBox_Parse import SOMToolBox_Parse\n",
    "\n",
    "dataset = 'iris' #iris, chainlink, 10clusters, BostonHousing\n",
    "inputdata = SOMToolBox_Parse('datasets\\\\'+dataset+'\\\\'+dataset+'.vec').read_weight_file()\n",
    "components = SOMToolBox_Parse('datasets\\\\'+dataset+'\\\\'+dataset+'.tv').read_weight_file()\n",
    "weights = SOMToolBox_Parse('datasets\\\\'+dataset+'\\\\'+dataset+'.wgt.gz').read_weight_file()\n",
    "classinfo = SOMToolBox_Parse('datasets\\\\'+dataset+'\\\\'+dataset+'.cls').read_weight_file()\n",
    "\n",
    "#visualization\n",
    "pysomviz = PySOMVis(weights=weights['arr'], m=weights['ydim'], n=weights['xdim'],\n",
    "                     dimension=weights['vec_dim'], input_data=inputdata['arr'], classes_names=classinfo['classes_names'], \n",
    "                    classes=classinfo['arr'][:,1], component_names=components['arr'][:,1])\n",
    "pysomviz._mainview"
   ]
  }
 ],
 "metadata": {
  "kernelspec": {
   "display_name": "Python 3 (ipykernel)",
   "language": "python",
   "name": "python3"
  },
  "language_info": {
   "codemirror_mode": {
    "name": "ipython",
    "version": 3
   },
   "file_extension": ".py",
   "mimetype": "text/x-python",
   "name": "python",
   "nbconvert_exporter": "python",
   "pygments_lexer": "ipython3",
   "version": "3.10.4"
  }
 },
 "nbformat": 4,
 "nbformat_minor": 5
}
